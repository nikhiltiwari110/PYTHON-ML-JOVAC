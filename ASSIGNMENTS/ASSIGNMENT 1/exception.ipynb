{
 "cells": [
  {
   "cell_type": "code",
   "execution_count": 1,
   "id": "f41be387-7540-48be-855d-96733b7235be",
   "metadata": {},
   "outputs": [],
   "source": [
    "#make a custom exception"
   ]
  },
  {
   "cell_type": "code",
   "execution_count": 2,
   "id": "c97c5966-9f19-48ae-ade1-9dedae9baca0",
   "metadata": {},
   "outputs": [
    {
     "name": "stdin",
     "output_type": "stream",
     "text": [
      "enter a divisble of 9 12\n"
     ]
    },
    {
     "ename": "Exception",
     "evalue": "not a divisible of 9",
     "output_type": "error",
     "traceback": [
      "\u001b[31m---------------------------------------------------------------------------\u001b[39m",
      "\u001b[31mException\u001b[39m                                 Traceback (most recent call last)",
      "\u001b[36mCell\u001b[39m\u001b[36m \u001b[39m\u001b[32mIn[2]\u001b[39m\u001b[32m, line 4\u001b[39m\n\u001b[32m      1\u001b[39m x=\u001b[38;5;28mint\u001b[39m(\u001b[38;5;28minput\u001b[39m(\u001b[33m\"\u001b[39m\u001b[33menter a divisble of 9\u001b[39m\u001b[33m\"\u001b[39m))\n\u001b[32m      3\u001b[39m \u001b[38;5;28;01mif\u001b[39;00m(x % \u001b[32m9\u001b[39m != \u001b[32m0\u001b[39m):\n\u001b[32m----> \u001b[39m\u001b[32m4\u001b[39m     \u001b[38;5;28;01mraise\u001b[39;00m \u001b[38;5;167;01mException\u001b[39;00m(\u001b[33m\"\u001b[39m\u001b[33mnot a divisible of 9\u001b[39m\u001b[33m\"\u001b[39m)\n",
      "\u001b[31mException\u001b[39m: not a divisible of 9"
     ]
    }
   ],
   "source": [
    "x=int(input(\"enter a divisble of 9\"))\n",
    "\n",
    "if(x % 9 != 0):\n",
    "    raise Exception(\"not a divisible of 9\")"
   ]
  },
  {
   "cell_type": "code",
   "execution_count": 9,
   "id": "7d629874-659e-4e77-a1c9-ae14f895cd16",
   "metadata": {},
   "outputs": [],
   "source": [
    "l=[['1S', '1A', '1Y', '1!'],\n",
    "   ['12', 'HE', 'LL', '1O'],\n",
    "   ['13', 'WO', 'RL', '1D'],\n",
    "   ['22', '11', '32', '10']\n",
    "   ]"
   ]
  },
  {
   "cell_type": "code",
   "execution_count": 10,
   "id": "47748257-f08e-424b-be29-d01a0947b265",
   "metadata": {},
   "outputs": [],
   "source": [
    "with open('write.csv','w') as f:\n",
    "    for list in l:\n",
    "        f.write(','.join(map(str,list)))\n",
    "        f.write('\\n')"
   ]
  },
  {
   "cell_type": "code",
   "execution_count": 11,
   "id": "36920a0d-f6aa-468a-86c9-c7d8c9321347",
   "metadata": {},
   "outputs": [
    {
     "name": "stdout",
     "output_type": "stream",
     "text": [
      "1S,1A,1Y,1!\n",
      "12,HE,LL,1O\n",
      "13,WO,RL,1D\n",
      "22,11,32,10\n",
      "\n"
     ]
    }
   ],
   "source": [
    "with open('write.csv','r') as f:\n",
    "    f.seek(0)\n",
    "    print(f.read())"
   ]
  },
  {
   "cell_type": "code",
   "execution_count": null,
   "id": "7dc28a99-fa15-43bd-8285-8d6d0508ebfd",
   "metadata": {},
   "outputs": [],
   "source": []
  }
 ],
 "metadata": {
  "kernelspec": {
   "display_name": "Python 3 (ipykernel)",
   "language": "python",
   "name": "python3"
  },
  "language_info": {
   "codemirror_mode": {
    "name": "ipython",
    "version": 3
   },
   "file_extension": ".py",
   "mimetype": "text/x-python",
   "name": "python",
   "nbconvert_exporter": "python",
   "pygments_lexer": "ipython3",
   "version": "3.12.9"
  }
 },
 "nbformat": 4,
 "nbformat_minor": 5
}
