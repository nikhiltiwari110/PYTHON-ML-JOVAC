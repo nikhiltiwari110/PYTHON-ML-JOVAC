{
 "cells": [
  {
   "cell_type": "code",
   "execution_count": 3,
   "id": "e783ec2f-bd32-41da-b342-7fd3dbc797a1",
   "metadata": {},
   "outputs": [
    {
     "name": "stdout",
     "output_type": "stream",
     "text": [
      "--- Task 1: Creating Arrays ---\n",
      "\n",
      "1. 1D Array (1 to 10):\n",
      " [ 1  2  3  4  5  6  7  8  9 10]\n"
     ]
    }
   ],
   "source": [
    "import numpy as np\n",
    "# --- Task 1: Creating Arrays ---\n",
    "print(\"--- Task 1: Creating Arrays ---\")\n",
    "\n",
    "array_1d = np.arange(1, 11)\n",
    "print(\"\\n1. 1D Array (1 to 10):\\n\", array_1d)\n"
   ]
  },
  {
   "cell_type": "code",
   "execution_count": 4,
   "id": "c9ab30ab-a451-438a-8895-f184b5f0faeb",
   "metadata": {},
   "outputs": [
    {
     "name": "stdout",
     "output_type": "stream",
     "text": [
      "\n",
      "2. 2D Array (3x3 from 1-9):\n",
      " [[1 2 3]\n",
      " [4 5 6]\n",
      " [7 8 9]]\n"
     ]
    }
   ],
   "source": [
    "\n",
    "array_2d = np.arange(1, 10).reshape(3, 3)\n",
    "print(\"\\n2. 2D Array (3x3 from 1-9):\\n\", array_2d)\n"
   ]
  },
  {
   "cell_type": "code",
   "execution_count": 5,
   "id": "fedc176b-6210-46dd-a312-f0a2b5c5baf8",
   "metadata": {},
   "outputs": [
    {
     "name": "stdout",
     "output_type": "stream",
     "text": [
      "\n",
      "3. 3D Random Array (3x5x3):\n",
      " [[[0.45113847 0.55570109 0.65915959]\n",
      "  [0.95274995 0.94096505 0.98397437]\n",
      "  [0.50691651 0.95584054 0.72239942]\n",
      "  [0.9097199  0.95014621 0.74953393]\n",
      "  [0.15874749 0.13263604 0.49548974]]\n",
      "\n",
      " [[0.87649383 0.0891443  0.43074427]\n",
      "  [0.85446229 0.40612978 0.47049348]\n",
      "  [0.25564091 0.07285609 0.09692111]\n",
      "  [0.14666116 0.48523394 0.8114887 ]\n",
      "  [0.35221237 0.40928032 0.87050895]]\n",
      "\n",
      " [[0.994575   0.10557977 0.46106313]\n",
      "  [0.30111255 0.42765738 0.46120847]\n",
      "  [0.09456606 0.76683231 0.00533187]\n",
      "  [0.94227902 0.97764416 0.45837906]\n",
      "  [0.55202853 0.29712209 0.52978258]]]\n"
     ]
    }
   ],
   "source": [
    "\n",
    "array_3d = np.random.rand(3, 5, 3)\n",
    "print(\"\\n3. 3D Random Array (3x5x3):\\n\", array_3d)"
   ]
  },
  {
   "cell_type": "code",
   "execution_count": 6,
   "id": "1a6954c8-c79a-47d0-b376-7ed4f356d575",
   "metadata": {},
   "outputs": [
    {
     "name": "stdout",
     "output_type": "stream",
     "text": [
      "\n",
      "--- Array Properties ---\n",
      "1D Array -> Shape: (10,), Size: 10, Datatype: int64\n",
      "2D Array -> Shape: (3, 3), Size: 9, Datatype: int64\n",
      "3D Array -> Shape: (3, 5, 3), Size: 45, Datatype: float64\n"
     ]
    }
   ],
   "source": [
    "print(\"\\n--- Array Properties ---\")\n",
    "print(f\"1D Array -> Shape: {array_1d.shape}, Size: {array_1d.size}, Datatype: {array_1d.dtype}\")\n",
    "print(f\"2D Array -> Shape: {array_2d.shape}, Size: {array_2d.size}, Datatype: {array_2d.dtype}\")\n",
    "print(f\"3D Array -> Shape: {array_3d.shape}, Size: {array_3d.size}, Datatype: {array_3d.dtype}\")"
   ]
  },
  {
   "cell_type": "code",
   "execution_count": null,
   "id": "3dde8c67-d106-4faa-991f-094e85cbaae1",
   "metadata": {},
   "outputs": [],
   "source": []
  }
 ],
 "metadata": {
  "kernelspec": {
   "display_name": "Python 3 (ipykernel)",
   "language": "python",
   "name": "python3"
  },
  "language_info": {
   "codemirror_mode": {
    "name": "ipython",
    "version": 3
   },
   "file_extension": ".py",
   "mimetype": "text/x-python",
   "name": "python",
   "nbconvert_exporter": "python",
   "pygments_lexer": "ipython3",
   "version": "3.12.9"
  }
 },
 "nbformat": 4,
 "nbformat_minor": 5
}
