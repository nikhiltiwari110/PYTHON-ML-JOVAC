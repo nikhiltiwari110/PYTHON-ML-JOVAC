{
 "cells": [
  {
   "cell_type": "code",
   "execution_count": 2,
   "id": "4cc74782-2482-4102-8a6a-8276afb6c586",
   "metadata": {},
   "outputs": [
    {
     "name": "stdout",
     "output_type": "stream",
     "text": [
      "\n",
      "\n",
      "--- Task 2: Array Indexing and Slicing ---\n",
      "\n",
      "Original Array:\n",
      " [10 20 30 40 50 60 70 80 90]\n"
     ]
    }
   ],
   "source": [
    "import numpy as np\n",
    "print(\"\\n\\n--- Task 2: Array Indexing and Slicing ---\")\n",
    "\n",
    "data = [10, 20, 30, 40, 50, 60, 70, 80, 90]\n",
    "data_array = np.array(data)\n",
    "print(\"\\nOriginal Array:\\n\", data_array)"
   ]
  },
  {
   "cell_type": "code",
   "execution_count": 3,
   "id": "0c47de10-4ee0-467f-be68-c55708acd39b",
   "metadata": {},
   "outputs": [
    {
     "name": "stdout",
     "output_type": "stream",
     "text": [
      "\n",
      "First three elements: [10 20 30]\n"
     ]
    }
   ],
   "source": [
    "first_three = data_array[:3]\n",
    "print(\"\\nFirst three elements:\", first_three)"
   ]
  },
  {
   "cell_type": "code",
   "execution_count": 4,
   "id": "16e05f42-56c9-43ef-a19c-0bfa42d38476",
   "metadata": {},
   "outputs": [
    {
     "name": "stdout",
     "output_type": "stream",
     "text": [
      "Every alternate element: [10 30 50 70 90]\n"
     ]
    }
   ],
   "source": [
    "alternate_elements = data_array[::2]\n",
    "print(\"Every alternate element:\", alternate_elements)"
   ]
  },
  {
   "cell_type": "code",
   "execution_count": 5,
   "id": "3f785804-35f0-400a-8154-65677bab22e7",
   "metadata": {},
   "outputs": [
    {
     "name": "stdout",
     "output_type": "stream",
     "text": [
      "Reversed array: [90 80 70 60 50 40 30 20 10]\n"
     ]
    }
   ],
   "source": [
    "\n",
    "reversed_array = data_array[::-1]\n",
    "print(\"Reversed array:\", reversed_array)"
   ]
  },
  {
   "cell_type": "code",
   "execution_count": null,
   "id": "abc2e375-9eee-4833-b2aa-e42b03c47d07",
   "metadata": {},
   "outputs": [],
   "source": []
  }
 ],
 "metadata": {
  "kernelspec": {
   "display_name": "Python 3 (ipykernel)",
   "language": "python",
   "name": "python3"
  },
  "language_info": {
   "codemirror_mode": {
    "name": "ipython",
    "version": 3
   },
   "file_extension": ".py",
   "mimetype": "text/x-python",
   "name": "python",
   "nbconvert_exporter": "python",
   "pygments_lexer": "ipython3",
   "version": "3.12.9"
  }
 },
 "nbformat": 4,
 "nbformat_minor": 5
}
