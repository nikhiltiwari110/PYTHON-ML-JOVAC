{
 "cells": [
  {
   "cell_type": "code",
   "execution_count": 1,
   "id": "d6c5200c-232d-4781-b5f5-635668ea0606",
   "metadata": {},
   "outputs": [],
   "source": [
    "import numpy as np"
   ]
  },
  {
   "cell_type": "code",
   "execution_count": 14,
   "id": "efb9e673-a3c9-428a-a5af-e3ae889be83f",
   "metadata": {},
   "outputs": [
    {
     "name": "stdout",
     "output_type": "stream",
     "text": [
      "\n",
      "10 equally spaced values between 0 and 1:\n",
      " [0.         0.11111111 0.22222222 0.33333333 0.44444444 0.55555556\n",
      " 0.66666667 0.77777778 0.88888889 1.        ]\n",
      "\n"
     ]
    }
   ],
   "source": [
    "linspace_arr = np.linspace(0, 1, 10)\n",
    "print(\"\\n10 equally spaced values between 0 and 1:\\n\", linspace_arr)\n",
    "print()"
   ]
  },
  {
   "cell_type": "code",
   "execution_count": 4,
   "id": "57c881a9-4e5a-4365-b5d9-8c805ee8e977",
   "metadata": {},
   "outputs": [
    {
     "name": "stdout",
     "output_type": "stream",
     "text": [
      "\n",
      "4x4 Identity Matrix:\n",
      " [[1. 0. 0. 0.]\n",
      " [0. 1. 0. 0.]\n",
      " [0. 0. 1. 0.]\n",
      " [0. 0. 0. 1.]]\n"
     ]
    }
   ],
   "source": [
    "identity_matrix = np.identity(4)\n",
    "print(\"\\n4x4 Identity Matrix:\\n\", identity_matrix)"
   ]
  },
  {
   "cell_type": "code",
   "execution_count": 12,
   "id": "1f9ff849-0f90-4294-8e01-40958dd4fa79",
   "metadata": {},
   "outputs": [
    {
     "name": "stdout",
     "output_type": "stream",
     "text": [
      "Generated 1D array of 20 random integers:\n",
      " [80 44 98 85 19 93  9 28 71 84 85 83 28 43 54 44  3  6  9 39]\n",
      "\n"
     ]
    }
   ],
   "source": [
    "rand_arr_20 = np.random.randint(1, 101, 20)\n",
    "print(\"Generated 1D array of 20 random integers:\\n\", rand_arr_20)\n",
    "print()"
   ]
  },
  {
   "cell_type": "code",
   "execution_count": 13,
   "id": "140eb057-833c-4375-8b06-7f747c7b0ce4",
   "metadata": {},
   "outputs": [
    {
     "name": "stdout",
     "output_type": "stream",
     "text": [
      "Sorted array:\n",
      " [ 3  6  9  9 19 28 28 39 43 44 44 54 71 80 83 84 85 85 93 98]\n",
      "\n"
     ]
    }
   ],
   "source": [
    "sorted_arr = np.sort(rand_arr_20)\n",
    "print(\"Sorted array:\\n\", sorted_arr)\n",
    "print()"
   ]
  },
  {
   "cell_type": "code",
   "execution_count": 9,
   "id": "aec391b7-d3cd-494e-afa2-21756bb3b52e",
   "metadata": {},
   "outputs": [
    {
     "name": "stdout",
     "output_type": "stream",
     "text": [
      "5 largest elements: [67 67 74 90 91]\n"
     ]
    }
   ],
   "source": [
    "five_largest = sorted_arr[-5:]\n",
    "print(\"5 largest elements:\", five_largest)"
   ]
  },
  {
   "cell_type": "code",
   "execution_count": null,
   "id": "cc233e12-479a-4079-899f-4f922fbf4607",
   "metadata": {},
   "outputs": [],
   "source": []
  }
 ],
 "metadata": {
  "kernelspec": {
   "display_name": "Python 3 (ipykernel)",
   "language": "python",
   "name": "python3"
  },
  "language_info": {
   "codemirror_mode": {
    "name": "ipython",
    "version": 3
   },
   "file_extension": ".py",
   "mimetype": "text/x-python",
   "name": "python",
   "nbconvert_exporter": "python",
   "pygments_lexer": "ipython3",
   "version": "3.12.9"
  }
 },
 "nbformat": 4,
 "nbformat_minor": 5
}
