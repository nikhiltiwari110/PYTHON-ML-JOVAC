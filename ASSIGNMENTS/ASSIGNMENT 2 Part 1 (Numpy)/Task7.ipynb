{
 "cells": [
  {
   "cell_type": "code",
   "execution_count": 17,
   "id": "b24f3f50-49ab-4487-9f42-20a5d0ea75dd",
   "metadata": {},
   "outputs": [],
   "source": [
    "import numpy as np\n",
    "import time"
   ]
  },
  {
   "cell_type": "code",
   "execution_count": 14,
   "id": "4313803f-2e3d-48ae-9168-4a428c2e89c6",
   "metadata": {},
   "outputs": [],
   "source": [
    "\n",
    "A = np.random.rand(100, 100)\n",
    "B = np.random.rand(100, 100)"
   ]
  },
  {
   "cell_type": "code",
   "execution_count": 15,
   "id": "9567c1c0-412b-4755-ae9c-3cf6bf8315be",
   "metadata": {},
   "outputs": [
    {
     "name": "stdout",
     "output_type": "stream",
     "text": [
      "Operation Start time :1752395318.781631 \n",
      "\n",
      "Matrix multiplication completed.\n",
      "\n",
      "[[23.95374289 25.74621211 25.52314594 ... 28.25243849 26.67670715\n",
      "  23.53128777]\n",
      " [21.92947746 24.65013399 24.3741137  ... 25.0553367  25.05582864\n",
      "  24.24620789]\n",
      " [25.59860871 28.10491431 28.38960421 ... 28.97454481 29.06976255\n",
      "  26.82577736]\n",
      " ...\n",
      " [22.7031281  23.50896685 24.73157886 ... 26.94881113 26.91240899\n",
      "  21.78808415]\n",
      " [20.88751017 23.94327544 25.84149317 ... 25.0727147  26.48391532\n",
      "  22.419963  ]\n",
      " [20.71502615 22.29652841 22.24230826 ... 23.44191829 24.7161032\n",
      "  22.6369155 ]] \n",
      "\n",
      "Determinant of the result: -4.6736272523952527e+49 \n",
      "\n",
      "Operation end time :1752395318.9076874 \n",
      "\n",
      "Matrix is invertible.\n",
      "Inverse matrix calculated successfully.\n",
      "[[-13.60281634  -6.95526774  -4.98578955 ...   5.7664055   -2.70049344\n",
      "  -15.20869562]\n",
      " [  4.56709009   2.5011757    1.42788126 ...  -2.66730692   0.89369108\n",
      "    4.90869396]\n",
      " [  0.11900827  -0.42611997   0.05879859 ...  -1.52109519   2.27494235\n",
      "    0.43042611]\n",
      " ...\n",
      " [  5.55512416   2.79625479   2.48268568 ...  -2.00708631   2.04392232\n",
      "    6.9443285 ]\n",
      " [-31.33314515 -15.58421398 -10.73756493 ...  16.6207363   -7.24160309\n",
      "  -33.67103362]\n",
      " [ 13.37263788   7.77556238   4.53167072 ...  -5.16105093  -0.21202367\n",
      "   14.38488981]] \n",
      "\n",
      "Time taken: 0.1261 seconds\n"
     ]
    }
   ],
   "source": [
    "start_time = time.time()\n",
    "print(f\"Operation Start time :{start_time} \\n\")\n",
    "\n",
    "\n",
    "C = np.dot(A, B)\n",
    "print(\"Matrix multiplication completed.\\n\")\n",
    "print(C,\"\\n\")\n",
    "\n",
    "det_C = np.linalg.det(C)\n",
    "print(f\"Determinant of the result: {det_C} \\n\")\n",
    "\n",
    "if np.isclose(det_C, 0):\n",
    "    inverse_C = None\n",
    "    invertible = False\n",
    "else:\n",
    "    inverse_C = np.linalg.inv(C)\n",
    "    invertible = True\n",
    "\n",
    "\n",
    "end_time = time.time()\n",
    "print(f\"Operation end time :{end_time} \\n\")\n",
    "\n",
    "elapsed_time = end_time - start_time\n",
    "\n",
    "print(\"Matrix is invertible.\" if invertible else \"Matrix is not invertible.\")\n",
    "if invertible:\n",
    "    print(\"Inverse matrix calculated successfully.\")\n",
    "    print(inverse_C,\"\\n\")\n",
    "print(f\"Time taken: {elapsed_time:.4f} seconds\")"
   ]
  },
  {
   "cell_type": "code",
   "execution_count": null,
   "id": "a2a3c586-a036-4e42-b48f-aced80768f0c",
   "metadata": {},
   "outputs": [],
   "source": []
  },
  {
   "cell_type": "code",
   "execution_count": null,
   "id": "98131bd0-2030-4bea-8e29-ba04ab356d4d",
   "metadata": {},
   "outputs": [],
   "source": []
  }
 ],
 "metadata": {
  "kernelspec": {
   "display_name": "Python 3 (ipykernel)",
   "language": "python",
   "name": "python3"
  },
  "language_info": {
   "codemirror_mode": {
    "name": "ipython",
    "version": 3
   },
   "file_extension": ".py",
   "mimetype": "text/x-python",
   "name": "python",
   "nbconvert_exporter": "python",
   "pygments_lexer": "ipython3",
   "version": "3.12.9"
  }
 },
 "nbformat": 4,
 "nbformat_minor": 5
}
