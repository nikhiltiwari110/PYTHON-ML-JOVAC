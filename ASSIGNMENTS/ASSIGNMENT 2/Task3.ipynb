{
 "cells": [
  {
   "cell_type": "code",
   "execution_count": 1,
   "id": "b143c134-57cd-46db-bf5c-ea8fdfd44762",
   "metadata": {},
   "outputs": [
    {
     "name": "stdout",
     "output_type": "stream",
     "text": [
      "\n",
      "\n",
      "--- Task 3: Mathematical Operations ---\n",
      "\n",
      "Array A: [ 9  9 13  2  2]\n",
      "Array B: [ 7 18  2 17  6]\n"
     ]
    }
   ],
   "source": [
    "import numpy as np\n",
    "# --- Task 3: Mathematical Operations ---\n",
    "print(\"\\n\\n--- Task 3: Mathematical Operations ---\")\n",
    "\n",
    "array_A = np.random.randint(1, 21, size=5)\n",
    "array_B = np.random.randint(1, 21, size=5)\n",
    "print(f\"\\nArray A: {array_A}\")\n",
    "print(f\"Array B: {array_B}\")"
   ]
  },
  {
   "cell_type": "code",
   "execution_count": 2,
   "id": "1742b8f7-a1f2-40eb-90d2-e530b706ab59",
   "metadata": {},
   "outputs": [
    {
     "name": "stdout",
     "output_type": "stream",
     "text": [
      "\n",
      "--- Element-wise Operations ---\n",
      "Addition (A + B):       [16 27 15 19  8]\n",
      "Subtraction (A - B):    [  2  -9  11 -15  -4]\n",
      "Multiplication (A * B): [ 63 162  26  34  12]\n",
      "Division (A / B):       [1.28571429 0.5        6.5        0.11764706 0.33333333]\n"
     ]
    }
   ],
   "source": [
    "print(\"\\n--- Element-wise Operations ---\")\n",
    "print(\"Addition (A + B):      \", array_A + array_B)\n",
    "print(\"Subtraction (A - B):   \", array_A - array_B)\n",
    "print(\"Multiplication (A * B):\", array_A * array_B)\n",
    "print(\"Division (A / B):      \", array_A / array_B)"
   ]
  },
  {
   "cell_type": "code",
   "execution_count": 3,
   "id": "42398857-c0d9-4471-a341-3d1664a2407c",
   "metadata": {},
   "outputs": [
    {
     "name": "stdout",
     "output_type": "stream",
     "text": [
      "\n",
      "--- Dot Product ---\n",
      "Dot Product of A and B: 297\n"
     ]
    }
   ],
   "source": [
    "print(\"\\n--- Dot Product ---\")\n",
    "dot_product = np.dot(array_A, array_B)\n",
    "print(\"Dot Product of A and B:\", dot_product)\n"
   ]
  },
  {
   "cell_type": "code",
   "execution_count": 4,
   "id": "81406625-b13c-4089-8fad-873d4b49f907",
   "metadata": {},
   "outputs": [
    {
     "name": "stdout",
     "output_type": "stream",
     "text": [
      "\n",
      "--- Statistics for Array A ---\n",
      "Mean of A:      7.0\n",
      "Median of A:    9.0\n",
      "Std Dev of A:   4.34\n",
      "Variance of A:  18.80\n"
     ]
    }
   ],
   "source": [
    "print(\"\\n--- Statistics for Array A ---\")\n",
    "print(f\"Mean of A:      {np.mean(array_A)}\")\n",
    "print(f\"Median of A:    {np.median(array_A)}\")\n",
    "print(f\"Std Dev of A:   {np.std(array_A):.2f}\")\n",
    "print(f\"Variance of A:  {np.var(array_A):.2f}\")"
   ]
  },
  {
   "cell_type": "code",
   "execution_count": 5,
   "id": "db3339ae-954e-4d90-980e-c50f07ffe84a",
   "metadata": {},
   "outputs": [
    {
     "name": "stdout",
     "output_type": "stream",
     "text": [
      "\n",
      "--- Min/Max for Array B ---\n",
      "Max value in B: 18 at index 1\n",
      "Min value in B: 2 at index 2\n"
     ]
    }
   ],
   "source": [
    "print(\"\\n--- Min/Max for Array B ---\")\n",
    "print(f\"Max value in B: {np.max(array_B)} at index {np.argmax(array_B)}\")\n",
    "print(f\"Min value in B: {np.min(array_B)} at index {np.argmin(array_B)}\")"
   ]
  },
  {
   "cell_type": "code",
   "execution_count": null,
   "id": "9f505426-3c1a-4bb7-8e81-b3c27698921c",
   "metadata": {},
   "outputs": [],
   "source": []
  }
 ],
 "metadata": {
  "kernelspec": {
   "display_name": "Python 3 (ipykernel)",
   "language": "python",
   "name": "python3"
  },
  "language_info": {
   "codemirror_mode": {
    "name": "ipython",
    "version": 3
   },
   "file_extension": ".py",
   "mimetype": "text/x-python",
   "name": "python",
   "nbconvert_exporter": "python",
   "pygments_lexer": "ipython3",
   "version": "3.12.9"
  }
 },
 "nbformat": 4,
 "nbformat_minor": 5
}
