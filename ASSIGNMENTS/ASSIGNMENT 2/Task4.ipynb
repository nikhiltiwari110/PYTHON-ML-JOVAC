{
 "cells": [
  {
   "cell_type": "code",
   "execution_count": 2,
   "id": "673c94e6-aec7-49b2-b2b6-0ba6bfa908ee",
   "metadata": {},
   "outputs": [
    {
     "name": "stdout",
     "output_type": "stream",
     "text": [
      "\n",
      "\n",
      "--- Task 4: Reshaping and Transposing ---\n"
     ]
    }
   ],
   "source": [
    "print(\"\\n\\n--- Task 4: Reshaping and Transposing ---\")"
   ]
  },
  {
   "cell_type": "code",
   "execution_count": 3,
   "id": "65b4bdd0-8ab9-41ea-ab1a-42dcb37ad432",
   "metadata": {},
   "outputs": [],
   "source": [
    "import numpy as np"
   ]
  },
  {
   "cell_type": "code",
   "execution_count": 4,
   "id": "288fef58-2978-4afc-94b9-cf1a7b55656c",
   "metadata": {},
   "outputs": [
    {
     "name": "stdout",
     "output_type": "stream",
     "text": [
      "\n",
      "Original 1D Array (1-12):\n",
      " [ 1  2  3  4  5  6  7  8  9 10 11 12]\n"
     ]
    }
   ],
   "source": [
    "arrx = np.arange(1, 13)\n",
    "print(\"\\nOriginal 1D Array (1-12):\\n\", arrx)"
   ]
  },
  {
   "cell_type": "code",
   "execution_count": 5,
   "id": "53191892-0d49-416c-b614-b9a246396a1e",
   "metadata": {},
   "outputs": [
    {
     "name": "stdout",
     "output_type": "stream",
     "text": [
      "\n",
      "Reshaped to 2D (4x3):\n",
      " [[ 1  2  3]\n",
      " [ 4  5  6]\n",
      " [ 7  8  9]\n",
      " [10 11 12]]\n"
     ]
    }
   ],
   "source": [
    "reshaped_2d = arrx.reshape(4, 3)\n",
    "print(\"\\nReshaped to 2D (4x3):\\n\", reshaped_2d)"
   ]
  },
  {
   "cell_type": "code",
   "execution_count": 6,
   "id": "78b4937d-dc1a-41ec-a489-4557c2f7c1ec",
   "metadata": {},
   "outputs": [
    {
     "name": "stdout",
     "output_type": "stream",
     "text": [
      "\n",
      "Reshaped to 3D (2x2x3):\n",
      " [[[ 1  2  3]\n",
      "  [ 4  5  6]]\n",
      "\n",
      " [[ 7  8  9]\n",
      "  [10 11 12]]]\n"
     ]
    }
   ],
   "source": [
    "reshaped_3d = arrx.reshape(2, 2, 3)\n",
    "print(\"\\nReshaped to 3D (2x2x3):\\n\", reshaped_3d)"
   ]
  },
  {
   "cell_type": "code",
   "execution_count": 7,
   "id": "d6d65ead-ed19-4831-8b97-5116f59186cf",
   "metadata": {},
   "outputs": [
    {
     "name": "stdout",
     "output_type": "stream",
     "text": [
      "\n",
      "Transposed 2D array:\n",
      " [[ 1  4  7 10]\n",
      " [ 2  5  8 11]\n",
      " [ 3  6  9 12]]\n",
      "Shape of transposed array: (3, 4)\n"
     ]
    }
   ],
   "source": [
    "transposed_2d = reshaped_2d.T\n",
    "print(\"\\nTransposed 2D array:\\n\", transposed_2d)\n",
    "print(\"Shape of transposed array:\", transposed_2d.shape)"
   ]
  },
  {
   "cell_type": "code",
   "execution_count": null,
   "id": "0d85a3c0-9a64-42dd-b2b0-7109d9f428c0",
   "metadata": {},
   "outputs": [],
   "source": []
  }
 ],
 "metadata": {
  "kernelspec": {
   "display_name": "Python 3 (ipykernel)",
   "language": "python",
   "name": "python3"
  },
  "language_info": {
   "codemirror_mode": {
    "name": "ipython",
    "version": 3
   },
   "file_extension": ".py",
   "mimetype": "text/x-python",
   "name": "python",
   "nbconvert_exporter": "python",
   "pygments_lexer": "ipython3",
   "version": "3.12.9"
  }
 },
 "nbformat": 4,
 "nbformat_minor": 5
}
