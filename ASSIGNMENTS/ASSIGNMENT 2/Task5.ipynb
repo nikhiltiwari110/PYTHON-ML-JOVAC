{
 "cells": [
  {
   "cell_type": "code",
   "execution_count": 1,
   "id": "3b50faf6-7b6b-45b3-a9e7-3f42ca422da0",
   "metadata": {},
   "outputs": [],
   "source": [
    "import numpy as np"
   ]
  },
  {
   "cell_type": "code",
   "execution_count": 5,
   "id": "ec61d4b4-6146-4c58-9853-b3cb882c5e04",
   "metadata": {},
   "outputs": [
    {
     "name": "stdout",
     "output_type": "stream",
     "text": [
      "--- Task 5: Boolean Masking and Filtering ---\n",
      "\n",
      "Original Array (15 random ints between 10 and 50):\n",
      " [49 27 45 14 24 35 32 37 33 16 39 16 18 49 13]\n"
     ]
    }
   ],
   "source": [
    "print(\"--- Task 5: Boolean Masking and Filtering ---\")\n",
    "filter_array = np.random.randint(10, 51, size=15)\n",
    "print(\"\\nOriginal Array (15 random ints between 10 and 50):\\n\", filter_array)"
   ]
  },
  {
   "cell_type": "code",
   "execution_count": 6,
   "id": "89b45d4c-4f13-480b-93fa-23536312736e",
   "metadata": {},
   "outputs": [
    {
     "name": "stdout",
     "output_type": "stream",
     "text": [
      "\n",
      "Elements greater than 25: [49 27 45 35 32 37 33 39 49]\n"
     ]
    }
   ],
   "source": [
    "greater_than_25 = filter_array[filter_array > 25]\n",
    "print(\"\\nElements greater than 25:\", greater_than_25)"
   ]
  },
  {
   "cell_type": "code",
   "execution_count": 10,
   "id": "c4ef3156-61f6-432e-97d0-c981182538b4",
   "metadata": {},
   "outputs": [
    {
     "name": "stdout",
     "output_type": "stream",
     "text": [
      "\n",
      "Original array before replacement: [49  0 45  0  0 35 32 37 33  0 39  0  0 49  0]\n",
      "Array after replacing elements < 30 with 0:\n",
      " [49  0 45  0  0 35 32 37 33  0 39  0  0 49  0]\n"
     ]
    }
   ],
   "source": [
    "print(\"\\nOriginal array before replacement:\", filter_array)\n",
    "filter_array[filter_array < 30] = 0\n",
    "print(\"Array after replacing elements < 30 with 0:\\n\", filter_array)"
   ]
  },
  {
   "cell_type": "code",
   "execution_count": 11,
   "id": "0d767b4a-909b-4d19-9f78-48f78d35d41e",
   "metadata": {},
   "outputs": [
    {
     "name": "stdout",
     "output_type": "stream",
     "text": [
      "Number of elements divisible by 5: 9\n"
     ]
    }
   ],
   "source": [
    "divisible_by_5_count = np.sum(filter_array % 5 == 0)\n",
    "print(f\"Number of elements divisible by 5: {divisible_by_5_count}\")"
   ]
  },
  {
   "cell_type": "code",
   "execution_count": null,
   "id": "17f121eb-cc3f-4435-9c1e-45f794527671",
   "metadata": {},
   "outputs": [],
   "source": []
  }
 ],
 "metadata": {
  "kernelspec": {
   "display_name": "Python 3 (ipykernel)",
   "language": "python",
   "name": "python3"
  },
  "language_info": {
   "codemirror_mode": {
    "name": "ipython",
    "version": 3
   },
   "file_extension": ".py",
   "mimetype": "text/x-python",
   "name": "python",
   "nbconvert_exporter": "python",
   "pygments_lexer": "ipython3",
   "version": "3.12.9"
  }
 },
 "nbformat": 4,
 "nbformat_minor": 5
}
