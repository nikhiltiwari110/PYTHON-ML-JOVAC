{
 "cells": [
  {
   "cell_type": "markdown",
   "id": "c5fc4a2f",
   "metadata": {},
   "source": [
    "# Assignment 3"
   ]
  },
  {
   "cell_type": "code",
   "execution_count": 2,
   "id": "6ea47c0c",
   "metadata": {},
   "outputs": [],
   "source": [
    "import pandas as pd\n",
    "import numpy as np"
   ]
  },
  {
   "cell_type": "code",
   "execution_count": 3,
   "id": "00145ca6-73d6-4faf-8f31-d7b268f56fb2",
   "metadata": {},
   "outputs": [],
   "source": [
    "#Task 1 : Working With Series"
   ]
  },
  {
   "cell_type": "code",
   "execution_count": 4,
   "id": "b7720472",
   "metadata": {},
   "outputs": [
    {
     "name": "stdout",
     "output_type": "stream",
     "text": [
      "First 3 elements:\n",
      "A    25\n",
      "B    30\n",
      "C    35\n",
      "dtype: int64\n",
      "Mean: 35.0\n",
      "Median: 35.0\n",
      "Std Dev: 7.905694150420948\n"
     ]
    }
   ],
   "source": [
    "data = [25, 30, 35, 40, 45]\n",
    "s=pd.Series(data,index=['A','B','C','D','E'])\n",
    "print(\"First 3 elements:\")\n",
    "print(s.head(3))\n",
    "\n",
    "print(\"Mean:\",s.mean())\n",
    "print(\"Median:\",s.median())\n",
    "print(\"Std Dev:\",s.std())"
   ]
  },
  {
   "cell_type": "code",
   "execution_count": null,
   "id": "82d43bab-4d3c-4c3e-b7f2-c881a626cac1",
   "metadata": {},
   "outputs": [],
   "source": [
    "#Task 2: Creating and Inspecting DataFrames"
   ]
  },
  {
   "cell_type": "code",
   "execution_count": 5,
   "id": "216471e6",
   "metadata": {},
   "outputs": [
    {
     "name": "stdout",
     "output_type": "stream",
     "text": [
      "First 2 rows:\n",
      "     Name  Age  Gender  Marks\n",
      "0  Alice   20  Female     85\n",
      "1    Bob   22    Male     78\n",
      "\n",
      "\n",
      "\n",
      "Column Names:\n",
      " Index(['Name', 'Age', 'Gender', 'Marks'], dtype='object')\n",
      "Data Types:\n",
      " Name      object\n",
      "Age        int64\n",
      "Gender    object\n",
      "Marks      int64\n",
      "dtype: object\n",
      "Summary Stats:\n",
      "              Age      Marks\n",
      "count   5.000000   5.000000\n",
      "mean   20.400000  83.400000\n",
      "std     1.140175   7.334848\n",
      "min    19.000000  74.000000\n",
      "25%    20.000000  78.000000\n",
      "50%    20.000000  85.000000\n",
      "75%    21.000000  88.000000\n",
      "max    22.000000  92.000000\n",
      "\n",
      "\n",
      "\n",
      "DataFrame with 'Passed' column:\n"
     ]
    },
    {
     "data": {
      "text/html": [
       "<div>\n",
       "<style scoped>\n",
       "    .dataframe tbody tr th:only-of-type {\n",
       "        vertical-align: middle;\n",
       "    }\n",
       "\n",
       "    .dataframe tbody tr th {\n",
       "        vertical-align: top;\n",
       "    }\n",
       "\n",
       "    .dataframe thead th {\n",
       "        text-align: right;\n",
       "    }\n",
       "</style>\n",
       "<table border=\"1\" class=\"dataframe\">\n",
       "  <thead>\n",
       "    <tr style=\"text-align: right;\">\n",
       "      <th></th>\n",
       "      <th>Name</th>\n",
       "      <th>Age</th>\n",
       "      <th>Gender</th>\n",
       "      <th>Marks</th>\n",
       "      <th>Passed</th>\n",
       "    </tr>\n",
       "  </thead>\n",
       "  <tbody>\n",
       "    <tr>\n",
       "      <th>0</th>\n",
       "      <td>Alice</td>\n",
       "      <td>20</td>\n",
       "      <td>Female</td>\n",
       "      <td>85</td>\n",
       "      <td>True</td>\n",
       "    </tr>\n",
       "    <tr>\n",
       "      <th>1</th>\n",
       "      <td>Bob</td>\n",
       "      <td>22</td>\n",
       "      <td>Male</td>\n",
       "      <td>78</td>\n",
       "      <td>False</td>\n",
       "    </tr>\n",
       "    <tr>\n",
       "      <th>2</th>\n",
       "      <td>Carol</td>\n",
       "      <td>19</td>\n",
       "      <td>Female</td>\n",
       "      <td>92</td>\n",
       "      <td>True</td>\n",
       "    </tr>\n",
       "    <tr>\n",
       "      <th>3</th>\n",
       "      <td>David</td>\n",
       "      <td>21</td>\n",
       "      <td>Male</td>\n",
       "      <td>74</td>\n",
       "      <td>False</td>\n",
       "    </tr>\n",
       "    <tr>\n",
       "      <th>4</th>\n",
       "      <td>Eve</td>\n",
       "      <td>20</td>\n",
       "      <td>Female</td>\n",
       "      <td>88</td>\n",
       "      <td>True</td>\n",
       "    </tr>\n",
       "  </tbody>\n",
       "</table>\n",
       "</div>"
      ],
      "text/plain": [
       "    Name  Age  Gender  Marks  Passed\n",
       "0  Alice   20  Female     85    True\n",
       "1    Bob   22    Male     78   False\n",
       "2  Carol   19  Female     92    True\n",
       "3  David   21    Male     74   False\n",
       "4    Eve   20  Female     88    True"
      ]
     },
     "execution_count": 5,
     "metadata": {},
     "output_type": "execute_result"
    }
   ],
   "source": [
    "df = pd.DataFrame({\n",
    "    'Name': ['Alice', 'Bob', 'Carol', 'David', 'Eve'],\n",
    "    'Age': [20, 22, 19, 21, 20],\n",
    "    'Gender': ['Female', 'Male', 'Female', 'Male', 'Female'],\n",
    "    'Marks': [85, 78, 92, 74, 88]\n",
    "})\n",
    "\n",
    "# First 2 rows\n",
    "print(\"First 2 rows:\\n\", df.head(2))\n",
    "print(\"\\n\\n\")\n",
    "\n",
    "# Column info\n",
    "print(\"Column Names:\\n\", df.columns)\n",
    "print(\"Data Types:\\n\", df.dtypes)\n",
    "print(\"Summary Stats:\\n\", df.describe())\n",
    "print(\"\\n\\n\")\n",
    "\n",
    "# Adding 'Passed' column\n",
    "df['Passed'] = df['Marks'] >= 80\n",
    "print(\"DataFrame with 'Passed' column:\")\n",
    "df"
   ]
  },
  {
   "cell_type": "code",
   "execution_count": null,
   "id": "6f16664f-6b0b-49d1-8814-531c0fabeff4",
   "metadata": {},
   "outputs": [],
   "source": [
    "#Task 3: Data Selection and Filtering"
   ]
  },
  {
   "cell_type": "code",
   "execution_count": 34,
   "id": "87c0b7ef",
   "metadata": {},
   "outputs": [
    {
     "name": "stdout",
     "output_type": "stream",
     "text": [
      "Name and Marks columns:\n",
      "    Name  Marks\n",
      "0  Alice     85\n",
      "1    Bob     78\n",
      "2  Carol     92\n",
      "3  David     74\n",
      "4    Eve     88\n",
      "\n",
      "Students with Marks > 80:\n",
      "    Name  Age  Gender  Marks  Passed\n",
      "0  Alice   20  Female     85    True\n",
      "2  Carol   19  Female     92    True\n",
      "4    Eve   20  Female     88    True\n",
      "\n",
      "Student with the highest marks:\n",
      "    Name  Age  Gender  Marks  Passed\n",
      "2  Carol   19  Female     92    True\n"
     ]
    }
   ],
   "source": [
    "print(\"Name and Marks columns:\")\n",
    "print(df[['Name', 'Marks']])\n",
    "\n",
    "print(\"\\nStudents with Marks > 80:\")\n",
    "print(df[df['Marks'] > 80])\n",
    "\n",
    "highest = df[df['Marks'] == df['Marks'].max()]\n",
    "print(\"\\nStudent with the highest marks:\")\n",
    "print(highest)\n",
    "\n"
   ]
  },
  {
   "cell_type": "code",
   "execution_count": null,
   "id": "52d22cd1-51ff-4fc3-8fc1-caa197a09774",
   "metadata": {},
   "outputs": [],
   "source": [
    "#Task 4: Handling Missing Data"
   ]
  },
  {
   "cell_type": "code",
   "execution_count": 35,
   "id": "308a3215",
   "metadata": {},
   "outputs": [
    {
     "name": "stdout",
     "output_type": "stream",
     "text": [
      "DataFrame with missing values:\n"
     ]
    },
    {
     "data": {
      "text/html": [
       "<div>\n",
       "<style scoped>\n",
       "    .dataframe tbody tr th:only-of-type {\n",
       "        vertical-align: middle;\n",
       "    }\n",
       "\n",
       "    .dataframe tbody tr th {\n",
       "        vertical-align: top;\n",
       "    }\n",
       "\n",
       "    .dataframe thead th {\n",
       "        text-align: right;\n",
       "    }\n",
       "</style>\n",
       "<table border=\"1\" class=\"dataframe\">\n",
       "  <thead>\n",
       "    <tr style=\"text-align: right;\">\n",
       "      <th></th>\n",
       "      <th>Name</th>\n",
       "      <th>Age</th>\n",
       "      <th>Gender</th>\n",
       "      <th>Marks</th>\n",
       "      <th>Passed</th>\n",
       "    </tr>\n",
       "  </thead>\n",
       "  <tbody>\n",
       "    <tr>\n",
       "      <th>0</th>\n",
       "      <td>Alice</td>\n",
       "      <td>20.0</td>\n",
       "      <td>Female</td>\n",
       "      <td>85.0</td>\n",
       "      <td>True</td>\n",
       "    </tr>\n",
       "    <tr>\n",
       "      <th>1</th>\n",
       "      <td>Bob</td>\n",
       "      <td>22.0</td>\n",
       "      <td>Male</td>\n",
       "      <td>NaN</td>\n",
       "      <td>False</td>\n",
       "    </tr>\n",
       "    <tr>\n",
       "      <th>2</th>\n",
       "      <td>Carol</td>\n",
       "      <td>19.0</td>\n",
       "      <td>Female</td>\n",
       "      <td>92.0</td>\n",
       "      <td>True</td>\n",
       "    </tr>\n",
       "    <tr>\n",
       "      <th>3</th>\n",
       "      <td>David</td>\n",
       "      <td>21.0</td>\n",
       "      <td>Male</td>\n",
       "      <td>74.0</td>\n",
       "      <td>False</td>\n",
       "    </tr>\n",
       "    <tr>\n",
       "      <th>4</th>\n",
       "      <td>Eve</td>\n",
       "      <td>NaN</td>\n",
       "      <td>Female</td>\n",
       "      <td>88.0</td>\n",
       "      <td>True</td>\n",
       "    </tr>\n",
       "  </tbody>\n",
       "</table>\n",
       "</div>"
      ],
      "text/plain": [
       "    Name   Age  Gender  Marks  Passed\n",
       "0  Alice  20.0  Female   85.0    True\n",
       "1    Bob  22.0    Male    NaN   False\n",
       "2  Carol  19.0  Female   92.0    True\n",
       "3  David  21.0    Male   74.0   False\n",
       "4    Eve   NaN  Female   88.0    True"
      ]
     },
     "execution_count": 35,
     "metadata": {},
     "output_type": "execute_result"
    }
   ],
   "source": [
    "df.loc[1, 'Marks'] = None     # Set Bob's Marks to None\n",
    "df.loc[4, 'Age'] = None       # Set Eva's Age to None\n",
    "\n",
    "print(\"DataFrame with missing values:\")\n",
    "df"
   ]
  },
  {
   "cell_type": "code",
   "execution_count": 36,
   "id": "c775b062",
   "metadata": {},
   "outputs": [
    {
     "name": "stdout",
     "output_type": "stream",
     "text": [
      "Missing values in the DataFrame:\n",
      "    Name    Age  Gender  Marks  Passed\n",
      "0  False  False   False  False   False\n",
      "1  False  False   False   True   False\n",
      "2  False  False   False  False   False\n",
      "3  False  False   False  False   False\n",
      "4  False   True   False  False   False\n"
     ]
    }
   ],
   "source": [
    "print(\"Missing values in the DataFrame:\")\n",
    "print(df.isnull())"
   ]
  },
  {
   "cell_type": "code",
   "execution_count": 37,
   "id": "e28df627",
   "metadata": {},
   "outputs": [
    {
     "name": "stdout",
     "output_type": "stream",
     "text": [
      "DataFrame after filling missing 'Marks' with mean:\n"
     ]
    },
    {
     "data": {
      "text/html": [
       "<div>\n",
       "<style scoped>\n",
       "    .dataframe tbody tr th:only-of-type {\n",
       "        vertical-align: middle;\n",
       "    }\n",
       "\n",
       "    .dataframe tbody tr th {\n",
       "        vertical-align: top;\n",
       "    }\n",
       "\n",
       "    .dataframe thead th {\n",
       "        text-align: right;\n",
       "    }\n",
       "</style>\n",
       "<table border=\"1\" class=\"dataframe\">\n",
       "  <thead>\n",
       "    <tr style=\"text-align: right;\">\n",
       "      <th></th>\n",
       "      <th>Name</th>\n",
       "      <th>Age</th>\n",
       "      <th>Gender</th>\n",
       "      <th>Marks</th>\n",
       "      <th>Passed</th>\n",
       "    </tr>\n",
       "  </thead>\n",
       "  <tbody>\n",
       "    <tr>\n",
       "      <th>0</th>\n",
       "      <td>Alice</td>\n",
       "      <td>20.0</td>\n",
       "      <td>Female</td>\n",
       "      <td>85.00</td>\n",
       "      <td>True</td>\n",
       "    </tr>\n",
       "    <tr>\n",
       "      <th>1</th>\n",
       "      <td>Bob</td>\n",
       "      <td>22.0</td>\n",
       "      <td>Male</td>\n",
       "      <td>84.75</td>\n",
       "      <td>False</td>\n",
       "    </tr>\n",
       "    <tr>\n",
       "      <th>2</th>\n",
       "      <td>Carol</td>\n",
       "      <td>19.0</td>\n",
       "      <td>Female</td>\n",
       "      <td>92.00</td>\n",
       "      <td>True</td>\n",
       "    </tr>\n",
       "    <tr>\n",
       "      <th>3</th>\n",
       "      <td>David</td>\n",
       "      <td>21.0</td>\n",
       "      <td>Male</td>\n",
       "      <td>74.00</td>\n",
       "      <td>False</td>\n",
       "    </tr>\n",
       "    <tr>\n",
       "      <th>4</th>\n",
       "      <td>Eve</td>\n",
       "      <td>NaN</td>\n",
       "      <td>Female</td>\n",
       "      <td>88.00</td>\n",
       "      <td>True</td>\n",
       "    </tr>\n",
       "  </tbody>\n",
       "</table>\n",
       "</div>"
      ],
      "text/plain": [
       "    Name   Age  Gender  Marks  Passed\n",
       "0  Alice  20.0  Female  85.00    True\n",
       "1    Bob  22.0    Male  84.75   False\n",
       "2  Carol  19.0  Female  92.00    True\n",
       "3  David  21.0    Male  74.00   False\n",
       "4    Eve   NaN  Female  88.00    True"
      ]
     },
     "execution_count": 37,
     "metadata": {},
     "output_type": "execute_result"
    }
   ],
   "source": [
    "\n",
    "df['Marks'] = df['Marks'].fillna(df['Marks'].mean())\n",
    "\n",
    "print(\"DataFrame after filling missing 'Marks' with mean:\")\n",
    "df"
   ]
  },
  {
   "cell_type": "code",
   "execution_count": 38,
   "id": "92cad9ed",
   "metadata": {},
   "outputs": [
    {
     "name": "stdout",
     "output_type": "stream",
     "text": [
      "DataFrame after dropping rows with missing 'Age':\n",
      "    Name   Age  Gender  Marks  Passed\n",
      "0  Alice  20.0  Female  85.00    True\n",
      "1    Bob  22.0    Male  84.75   False\n",
      "2  Carol  19.0  Female  92.00    True\n",
      "3  David  21.0    Male  74.00   False\n"
     ]
    }
   ],
   "source": [
    "df_cleaned = df.dropna(subset=['Age'])\n",
    "\n",
    "print(\"DataFrame after dropping rows with missing 'Age':\")\n",
    "print(df_cleaned)"
   ]
  },
  {
   "cell_type": "code",
   "execution_count": null,
   "id": "20db9dc9-b2fe-4516-a0d6-62c9beba9516",
   "metadata": {},
   "outputs": [],
   "source": [
    "#Task 5: Grouping and Aggregation"
   ]
  },
  {
   "cell_type": "code",
   "execution_count": 39,
   "id": "396d0dcf",
   "metadata": {},
   "outputs": [
    {
     "name": "stdout",
     "output_type": "stream",
     "text": [
      "Mean Age and Marks by Gender:          Age      Marks\n",
      "Gender                 \n",
      "Female  19.5  88.333333\n",
      "Male    21.5  79.375000\n"
     ]
    }
   ],
   "source": [
    "grouped_mean = df.groupby('Gender')[['Age', 'Marks']].mean()\n",
    "print(\"Mean Age and Marks by Gender:\", grouped_mean)\n"
   ]
  },
  {
   "cell_type": "code",
   "execution_count": 40,
   "id": "27c79fac",
   "metadata": {},
   "outputs": [
    {
     "name": "stdout",
     "output_type": "stream",
     "text": [
      "Student count by Gender: Gender\n",
      "Female    3\n",
      "Male      2\n",
      "Name: count, dtype: int64\n"
     ]
    }
   ],
   "source": [
    "gender_counts = df['Gender'].value_counts()\n",
    "print(\"Student count by Gender:\", gender_counts)"
   ]
  },
  {
   "cell_type": "code",
   "execution_count": null,
   "id": "f05336c5-d091-4923-bfca-3c28ee6d9bf1",
   "metadata": {},
   "outputs": [],
   "source": [
    "#Task 6: Reading and Writing Data"
   ]
  },
  {
   "cell_type": "code",
   "execution_count": 11,
   "id": "55824852",
   "metadata": {},
   "outputs": [],
   "source": [
    "df.to_csv(\"students_data.csv\", index=False)"
   ]
  },
  {
   "cell_type": "code",
   "execution_count": 12,
   "id": "008215c9",
   "metadata": {},
   "outputs": [
    {
     "name": "stdout",
     "output_type": "stream",
     "text": [
      "First 5 rows from CSV:\n"
     ]
    },
    {
     "data": {
      "text/html": [
       "<div>\n",
       "<style scoped>\n",
       "    .dataframe tbody tr th:only-of-type {\n",
       "        vertical-align: middle;\n",
       "    }\n",
       "\n",
       "    .dataframe tbody tr th {\n",
       "        vertical-align: top;\n",
       "    }\n",
       "\n",
       "    .dataframe thead th {\n",
       "        text-align: right;\n",
       "    }\n",
       "</style>\n",
       "<table border=\"1\" class=\"dataframe\">\n",
       "  <thead>\n",
       "    <tr style=\"text-align: right;\">\n",
       "      <th></th>\n",
       "      <th>Name</th>\n",
       "      <th>Age</th>\n",
       "      <th>Gender</th>\n",
       "      <th>Marks</th>\n",
       "      <th>Passed</th>\n",
       "    </tr>\n",
       "  </thead>\n",
       "  <tbody>\n",
       "    <tr>\n",
       "      <th>0</th>\n",
       "      <td>Alice</td>\n",
       "      <td>20</td>\n",
       "      <td>Female</td>\n",
       "      <td>85</td>\n",
       "      <td>True</td>\n",
       "    </tr>\n",
       "    <tr>\n",
       "      <th>1</th>\n",
       "      <td>Bob</td>\n",
       "      <td>22</td>\n",
       "      <td>Male</td>\n",
       "      <td>78</td>\n",
       "      <td>False</td>\n",
       "    </tr>\n",
       "    <tr>\n",
       "      <th>2</th>\n",
       "      <td>Carol</td>\n",
       "      <td>19</td>\n",
       "      <td>Female</td>\n",
       "      <td>92</td>\n",
       "      <td>True</td>\n",
       "    </tr>\n",
       "    <tr>\n",
       "      <th>3</th>\n",
       "      <td>David</td>\n",
       "      <td>21</td>\n",
       "      <td>Male</td>\n",
       "      <td>74</td>\n",
       "      <td>False</td>\n",
       "    </tr>\n",
       "    <tr>\n",
       "      <th>4</th>\n",
       "      <td>Eve</td>\n",
       "      <td>20</td>\n",
       "      <td>Female</td>\n",
       "      <td>88</td>\n",
       "      <td>True</td>\n",
       "    </tr>\n",
       "  </tbody>\n",
       "</table>\n",
       "</div>"
      ],
      "text/plain": [
       "    Name  Age  Gender  Marks  Passed\n",
       "0  Alice   20  Female     85    True\n",
       "1    Bob   22    Male     78   False\n",
       "2  Carol   19  Female     92    True\n",
       "3  David   21    Male     74   False\n",
       "4    Eve   20  Female     88    True"
      ]
     },
     "execution_count": 12,
     "metadata": {},
     "output_type": "execute_result"
    }
   ],
   "source": [
    "df_new = pd.read_csv(\"students_data.csv\")\n",
    "print(\"First 5 rows from CSV:\")\n",
    "df_new.head()"
   ]
  },
  {
   "cell_type": "code",
   "execution_count": null,
   "id": "ca3fb7fc-3102-4402-82c2-2838d0adcb4c",
   "metadata": {},
   "outputs": [],
   "source": [
    "#Task 7: General"
   ]
  },
  {
   "cell_type": "code",
   "execution_count": 17,
   "id": "bb0af9fc",
   "metadata": {},
   "outputs": [],
   "source": [
    "import pandas as pd\n",
    "import seaborn as sns\n",
    "import matplotlib.pyplot as plt\n"
   ]
  },
  {
   "cell_type": "code",
   "execution_count": 20,
   "id": "9e8d8386",
   "metadata": {},
   "outputs": [],
   "source": [
    "df = pd.read_csv(\"used_car_price_dataset_extended.csv\")"
   ]
  },
  {
   "cell_type": "code",
   "execution_count": 21,
   "id": "2ce8b798-c239-4e25-ac79-b4a2609f8f67",
   "metadata": {},
   "outputs": [
    {
     "name": "stdout",
     "output_type": "stream",
     "text": [
      "First 5 rows of the dataset:\n",
      "   make_year  mileage_kmpl  engine_cc fuel_type  owner_count  price_usd  \\\n",
      "0       2001          8.17       4000    Petrol            4    8587.64   \n",
      "1       2014         17.59       1500    Petrol            4    5943.50   \n",
      "2       2023         18.09       2500    Diesel            5    9273.58   \n",
      "3       2009         11.28        800    Petrol            1    6836.24   \n",
      "4       2005         12.23       1000    Petrol            2    4625.79   \n",
      "\n",
      "       brand transmission  color service_history  accidents_reported  \\\n",
      "0  Chevrolet       Manual  White             NaN                   0   \n",
      "1      Honda       Manual  Black             NaN                   0   \n",
      "2        BMW    Automatic  Black            Full                   1   \n",
      "3    Hyundai       Manual   Blue            Full                   0   \n",
      "4     Nissan    Automatic    Red            Full                   0   \n",
      "\n",
      "  insurance_valid  \n",
      "0              No  \n",
      "1             Yes  \n",
      "2             Yes  \n",
      "3             Yes  \n",
      "4             Yes  \n"
     ]
    }
   ],
   "source": [
    "print(\"First 5 rows of the dataset:\")\n",
    "print(df.head())"
   ]
  },
  {
   "cell_type": "code",
   "execution_count": 22,
   "id": "56d53b31",
   "metadata": {},
   "outputs": [
    {
     "name": "stdout",
     "output_type": "stream",
     "text": [
      "\n",
      "Data Types and Non-Null Counts:\n",
      "<class 'pandas.core.frame.DataFrame'>\n",
      "RangeIndex: 10000 entries, 0 to 9999\n",
      "Data columns (total 12 columns):\n",
      " #   Column              Non-Null Count  Dtype  \n",
      "---  ------              --------------  -----  \n",
      " 0   make_year           10000 non-null  int64  \n",
      " 1   mileage_kmpl        10000 non-null  float64\n",
      " 2   engine_cc           10000 non-null  int64  \n",
      " 3   fuel_type           10000 non-null  object \n",
      " 4   owner_count         10000 non-null  int64  \n",
      " 5   price_usd           10000 non-null  float64\n",
      " 6   brand               10000 non-null  object \n",
      " 7   transmission        10000 non-null  object \n",
      " 8   color               10000 non-null  object \n",
      " 9   service_history     7962 non-null   object \n",
      " 10  accidents_reported  10000 non-null  int64  \n",
      " 11  insurance_valid     10000 non-null  object \n",
      "dtypes: float64(2), int64(4), object(6)\n",
      "memory usage: 937.6+ KB\n"
     ]
    },
    {
     "data": {
      "text/plain": [
       "None"
      ]
     },
     "metadata": {},
     "output_type": "display_data"
    },
    {
     "name": "stdout",
     "output_type": "stream",
     "text": [
      "\n",
      "Summary Statistics (Numerical):\n"
     ]
    },
    {
     "data": {
      "text/html": [
       "<div>\n",
       "<style scoped>\n",
       "    .dataframe tbody tr th:only-of-type {\n",
       "        vertical-align: middle;\n",
       "    }\n",
       "\n",
       "    .dataframe tbody tr th {\n",
       "        vertical-align: top;\n",
       "    }\n",
       "\n",
       "    .dataframe thead th {\n",
       "        text-align: right;\n",
       "    }\n",
       "</style>\n",
       "<table border=\"1\" class=\"dataframe\">\n",
       "  <thead>\n",
       "    <tr style=\"text-align: right;\">\n",
       "      <th></th>\n",
       "      <th>make_year</th>\n",
       "      <th>mileage_kmpl</th>\n",
       "      <th>engine_cc</th>\n",
       "      <th>fuel_type</th>\n",
       "      <th>owner_count</th>\n",
       "      <th>price_usd</th>\n",
       "      <th>brand</th>\n",
       "      <th>transmission</th>\n",
       "      <th>color</th>\n",
       "      <th>service_history</th>\n",
       "      <th>accidents_reported</th>\n",
       "      <th>insurance_valid</th>\n",
       "    </tr>\n",
       "  </thead>\n",
       "  <tbody>\n",
       "    <tr>\n",
       "      <th>count</th>\n",
       "      <td>10000.000000</td>\n",
       "      <td>10000.000000</td>\n",
       "      <td>10000.000000</td>\n",
       "      <td>10000</td>\n",
       "      <td>10000.000000</td>\n",
       "      <td>10000.000000</td>\n",
       "      <td>10000</td>\n",
       "      <td>10000</td>\n",
       "      <td>10000</td>\n",
       "      <td>7962</td>\n",
       "      <td>10000.000000</td>\n",
       "      <td>10000</td>\n",
       "    </tr>\n",
       "    <tr>\n",
       "      <th>unique</th>\n",
       "      <td>NaN</td>\n",
       "      <td>NaN</td>\n",
       "      <td>NaN</td>\n",
       "      <td>3</td>\n",
       "      <td>NaN</td>\n",
       "      <td>NaN</td>\n",
       "      <td>10</td>\n",
       "      <td>2</td>\n",
       "      <td>6</td>\n",
       "      <td>2</td>\n",
       "      <td>NaN</td>\n",
       "      <td>2</td>\n",
       "    </tr>\n",
       "    <tr>\n",
       "      <th>top</th>\n",
       "      <td>NaN</td>\n",
       "      <td>NaN</td>\n",
       "      <td>NaN</td>\n",
       "      <td>Petrol</td>\n",
       "      <td>NaN</td>\n",
       "      <td>NaN</td>\n",
       "      <td>Nissan</td>\n",
       "      <td>Manual</td>\n",
       "      <td>Gray</td>\n",
       "      <td>Full</td>\n",
       "      <td>NaN</td>\n",
       "      <td>Yes</td>\n",
       "    </tr>\n",
       "    <tr>\n",
       "      <th>freq</th>\n",
       "      <td>NaN</td>\n",
       "      <td>NaN</td>\n",
       "      <td>NaN</td>\n",
       "      <td>4968</td>\n",
       "      <td>NaN</td>\n",
       "      <td>NaN</td>\n",
       "      <td>1089</td>\n",
       "      <td>5985</td>\n",
       "      <td>1705</td>\n",
       "      <td>4987</td>\n",
       "      <td>NaN</td>\n",
       "      <td>7934</td>\n",
       "    </tr>\n",
       "    <tr>\n",
       "      <th>mean</th>\n",
       "      <td>2009.206900</td>\n",
       "      <td>17.960753</td>\n",
       "      <td>2287.130000</td>\n",
       "      <td>NaN</td>\n",
       "      <td>3.003500</td>\n",
       "      <td>7179.754532</td>\n",
       "      <td>NaN</td>\n",
       "      <td>NaN</td>\n",
       "      <td>NaN</td>\n",
       "      <td>NaN</td>\n",
       "      <td>0.492200</td>\n",
       "      <td>NaN</td>\n",
       "    </tr>\n",
       "    <tr>\n",
       "      <th>std</th>\n",
       "      <td>8.373858</td>\n",
       "      <td>5.025486</td>\n",
       "      <td>1291.276927</td>\n",
       "      <td>NaN</td>\n",
       "      <td>1.418904</td>\n",
       "      <td>2795.270940</td>\n",
       "      <td>NaN</td>\n",
       "      <td>NaN</td>\n",
       "      <td>NaN</td>\n",
       "      <td>NaN</td>\n",
       "      <td>0.694109</td>\n",
       "      <td>NaN</td>\n",
       "    </tr>\n",
       "    <tr>\n",
       "      <th>min</th>\n",
       "      <td>1995.000000</td>\n",
       "      <td>5.000000</td>\n",
       "      <td>800.000000</td>\n",
       "      <td>NaN</td>\n",
       "      <td>1.000000</td>\n",
       "      <td>1000.000000</td>\n",
       "      <td>NaN</td>\n",
       "      <td>NaN</td>\n",
       "      <td>NaN</td>\n",
       "      <td>NaN</td>\n",
       "      <td>0.000000</td>\n",
       "      <td>NaN</td>\n",
       "    </tr>\n",
       "    <tr>\n",
       "      <th>25%</th>\n",
       "      <td>2002.000000</td>\n",
       "      <td>14.540000</td>\n",
       "      <td>1200.000000</td>\n",
       "      <td>NaN</td>\n",
       "      <td>2.000000</td>\n",
       "      <td>5176.547500</td>\n",
       "      <td>NaN</td>\n",
       "      <td>NaN</td>\n",
       "      <td>NaN</td>\n",
       "      <td>NaN</td>\n",
       "      <td>0.000000</td>\n",
       "      <td>NaN</td>\n",
       "    </tr>\n",
       "    <tr>\n",
       "      <th>50%</th>\n",
       "      <td>2009.000000</td>\n",
       "      <td>17.970000</td>\n",
       "      <td>1800.000000</td>\n",
       "      <td>NaN</td>\n",
       "      <td>3.000000</td>\n",
       "      <td>6961.260000</td>\n",
       "      <td>NaN</td>\n",
       "      <td>NaN</td>\n",
       "      <td>NaN</td>\n",
       "      <td>NaN</td>\n",
       "      <td>0.000000</td>\n",
       "      <td>NaN</td>\n",
       "    </tr>\n",
       "    <tr>\n",
       "      <th>75%</th>\n",
       "      <td>2016.000000</td>\n",
       "      <td>21.352500</td>\n",
       "      <td>3000.000000</td>\n",
       "      <td>NaN</td>\n",
       "      <td>4.000000</td>\n",
       "      <td>8993.732500</td>\n",
       "      <td>NaN</td>\n",
       "      <td>NaN</td>\n",
       "      <td>NaN</td>\n",
       "      <td>NaN</td>\n",
       "      <td>1.000000</td>\n",
       "      <td>NaN</td>\n",
       "    </tr>\n",
       "    <tr>\n",
       "      <th>max</th>\n",
       "      <td>2023.000000</td>\n",
       "      <td>35.000000</td>\n",
       "      <td>5000.000000</td>\n",
       "      <td>NaN</td>\n",
       "      <td>5.000000</td>\n",
       "      <td>17647.630000</td>\n",
       "      <td>NaN</td>\n",
       "      <td>NaN</td>\n",
       "      <td>NaN</td>\n",
       "      <td>NaN</td>\n",
       "      <td>5.000000</td>\n",
       "      <td>NaN</td>\n",
       "    </tr>\n",
       "  </tbody>\n",
       "</table>\n",
       "</div>"
      ],
      "text/plain": [
       "           make_year  mileage_kmpl     engine_cc fuel_type   owner_count  \\\n",
       "count   10000.000000  10000.000000  10000.000000     10000  10000.000000   \n",
       "unique           NaN           NaN           NaN         3           NaN   \n",
       "top              NaN           NaN           NaN    Petrol           NaN   \n",
       "freq             NaN           NaN           NaN      4968           NaN   \n",
       "mean     2009.206900     17.960753   2287.130000       NaN      3.003500   \n",
       "std         8.373858      5.025486   1291.276927       NaN      1.418904   \n",
       "min      1995.000000      5.000000    800.000000       NaN      1.000000   \n",
       "25%      2002.000000     14.540000   1200.000000       NaN      2.000000   \n",
       "50%      2009.000000     17.970000   1800.000000       NaN      3.000000   \n",
       "75%      2016.000000     21.352500   3000.000000       NaN      4.000000   \n",
       "max      2023.000000     35.000000   5000.000000       NaN      5.000000   \n",
       "\n",
       "           price_usd   brand transmission  color service_history  \\\n",
       "count   10000.000000   10000        10000  10000            7962   \n",
       "unique           NaN      10            2      6               2   \n",
       "top              NaN  Nissan       Manual   Gray            Full   \n",
       "freq             NaN    1089         5985   1705            4987   \n",
       "mean     7179.754532     NaN          NaN    NaN             NaN   \n",
       "std      2795.270940     NaN          NaN    NaN             NaN   \n",
       "min      1000.000000     NaN          NaN    NaN             NaN   \n",
       "25%      5176.547500     NaN          NaN    NaN             NaN   \n",
       "50%      6961.260000     NaN          NaN    NaN             NaN   \n",
       "75%      8993.732500     NaN          NaN    NaN             NaN   \n",
       "max     17647.630000     NaN          NaN    NaN             NaN   \n",
       "\n",
       "        accidents_reported insurance_valid  \n",
       "count         10000.000000           10000  \n",
       "unique                 NaN               2  \n",
       "top                    NaN             Yes  \n",
       "freq                   NaN            7934  \n",
       "mean              0.492200             NaN  \n",
       "std               0.694109             NaN  \n",
       "min               0.000000             NaN  \n",
       "25%               0.000000             NaN  \n",
       "50%               0.000000             NaN  \n",
       "75%               1.000000             NaN  \n",
       "max               5.000000             NaN  "
      ]
     },
     "execution_count": 22,
     "metadata": {},
     "output_type": "execute_result"
    }
   ],
   "source": [
    "print(\"\\nData Types and Non-Null Counts:\")\n",
    "display(df.info())\n",
    "\n",
    "print(\"\\nSummary Statistics (Numerical):\")\n",
    "df.describe(include='all')\n"
   ]
  },
  {
   "cell_type": "code",
   "execution_count": 23,
   "id": "81d872a5",
   "metadata": {},
   "outputs": [
    {
     "name": "stdout",
     "output_type": "stream",
     "text": [
      "Missing values in each column:\n"
     ]
    },
    {
     "data": {
      "text/plain": [
       "make_year                0\n",
       "mileage_kmpl             0\n",
       "engine_cc                0\n",
       "fuel_type                0\n",
       "owner_count              0\n",
       "price_usd                0\n",
       "brand                    0\n",
       "transmission             0\n",
       "color                    0\n",
       "service_history       2038\n",
       "accidents_reported       0\n",
       "insurance_valid          0\n",
       "dtype: int64"
      ]
     },
     "metadata": {},
     "output_type": "display_data"
    }
   ],
   "source": [
    "print(\"Missing values in each column:\")\n",
    "display(df.isnull().sum())"
   ]
  },
  {
   "cell_type": "code",
   "execution_count": 25,
   "id": "b21eb096-e280-49de-bd9d-5d52bc3905ce",
   "metadata": {},
   "outputs": [
    {
     "name": "stdout",
     "output_type": "stream",
     "text": [
      "Index(['make_year', 'mileage_kmpl', 'engine_cc', 'fuel_type', 'owner_count',\n",
      "       'price_usd', 'brand', 'transmission', 'color', 'service_history',\n",
      "       'accidents_reported', 'insurance_valid'],\n",
      "      dtype='object')\n"
     ]
    }
   ],
   "source": [
    "print(df.columns)"
   ]
  },
  {
   "cell_type": "code",
   "execution_count": 26,
   "id": "9e8346fe",
   "metadata": {
    "scrolled": true
   },
   "outputs": [
    {
     "data": {
      "image/png": "[encoded data removed]",
      "text/plain": [
       "<Figure size 800x500 with 1 Axes>"
      ]
     },
     "metadata": {},
     "output_type": "display_data"
    },
    {
     "data": {
      "image/png": "[encoded data removed]",
      "text/plain": [
       "<Figure size 600x400 with 1 Axes>"
      ]
     },
     "metadata": {},
     "output_type": "display_data"
    },
    {
     "data": {
      "image/png": "[encoded data removed]",
      "text/plain": [
       "<Figure size 600x400 with 1 Axes>"
      ]
     },
     "metadata": {},
     "output_type": "display_data"
    },
    {
     "data": {
      "image/png": "[encoded data removed]",
      "text/plain": [
       "<Figure size 600x400 with 1 Axes>"
      ]
     },
     "metadata": {},
     "output_type": "display_data"
    },
    {
     "data": {
      "image/png": "[encoded data removed]",
      "text/plain": [
       "<Figure size 1000x600 with 2 Axes>"
      ]
     },
     "metadata": {},
     "output_type": "display_data"
    }
   ],
   "source": [
    "# 1. Distribution of Car Price (price_usd)\n",
    "plt.figure(figsize=(8, 5))\n",
    "sns.histplot(df['price_usd'], kde=True, bins=30)\n",
    "plt.title(\"Car Price Distribution\")\n",
    "plt.xlabel(\"Price (USD)\")\n",
    "plt.ylabel(\"Count\")\n",
    "plt.show()\n",
    "\n",
    "# 2. Fuel Type Count\n",
    "plt.figure(figsize=(6, 4))\n",
    "sns.countplot(x='fuel_type', data=df)\n",
    "plt.title(\"Fuel Type Count\")\n",
    "plt.xlabel(\"Fuel Type\")\n",
    "plt.ylabel(\"Count\")\n",
    "plt.show()\n",
    "\n",
    "# 3. Transmission vs Price\n",
    "plt.figure(figsize=(6, 4))\n",
    "sns.boxplot(x='transmission', y='price_usd', data=df)\n",
    "plt.title(\"Car Price by Transmission Type\")\n",
    "plt.xlabel(\"Transmission\")\n",
    "plt.ylabel(\"Price (USD)\")\n",
    "plt.show()\n",
    "\n",
    "# 4. Owner Count Distribution\n",
    "plt.figure(figsize=(6, 4))\n",
    "sns.countplot(x='owner_count', data=df)\n",
    "plt.title(\"Owner Count Distribution\")\n",
    "plt.xlabel(\"Number of Previous Owners\")\n",
    "plt.ylabel(\"Count\")\n",
    "plt.show()\n",
    "\n",
    "# 5. Correlation Heatmap (numeric columns only)\n",
    "plt.figure(figsize=(10, 6))\n",
    "numeric_df = df.select_dtypes(include='number')\n",
    "sns.heatmap(numeric_df.corr(), annot=True, cmap='coolwarm')\n",
    "plt.title(\"Correlation Heatmap\")\n",
    "plt.show()\n"
   ]
  },
  {
   "cell_type": "code",
   "execution_count": 27,
   "id": "63af7562",
   "metadata": {},
   "outputs": [
    {
     "name": "stdout",
     "output_type": "stream",
     "text": [
      "\n",
      "Duplicate rows: 0\n",
      "\n",
      "Missing values before cleaning:\n",
      "make_year                0\n",
      "mileage_kmpl             0\n",
      "engine_cc                0\n",
      "fuel_type                0\n",
      "owner_count              0\n",
      "price_usd                0\n",
      "brand                    0\n",
      "transmission             0\n",
      "color                    0\n",
      "service_history       2038\n",
      "accidents_reported       0\n",
      "insurance_valid          0\n",
      "dtype: int64\n",
      "\n",
      "Missing values after cleaning:\n",
      "make_year             0\n",
      "mileage_kmpl          0\n",
      "engine_cc             0\n",
      "fuel_type             0\n",
      "owner_count           0\n",
      "price_usd             0\n",
      "brand                 0\n",
      "transmission          0\n",
      "color                 0\n",
      "service_history       2\n",
      "accidents_reported    0\n",
      "insurance_valid       0\n",
      "dtype: int64\n"
     ]
    },
    {
     "name": "stderr",
     "output_type": "stream",
     "text": [
      "C:\\Users\\tiwar\\AppData\\Local\\Temp\\ipykernel_14216\\2716138018.py:12: FutureWarning: DataFrame.fillna with 'method' is deprecated and will raise in a future version. Use obj.ffill() or obj.bfill() instead.\n",
      "  df.fillna(method='ffill', inplace=True)\n"
     ]
    }
   ],
   "source": [
    "# Check and drop duplicate rows\n",
    "duplicate_count = df.duplicated().sum()\n",
    "print(f\"\\nDuplicate rows: {duplicate_count}\")\n",
    "if duplicate_count > 0:\n",
    "    df.drop_duplicates(inplace=True)\n",
    "\n",
    "# Check missing values before filling\n",
    "print(\"\\nMissing values before cleaning:\")\n",
    "print(df.isnull().sum())\n",
    "\n",
    "# Fill missing values using forward fill (can be changed to mean/median based on column type)\n",
    "df.fillna(method='ffill', inplace=True)\n",
    "\n",
    "# Check again after filling\n",
    "print(\"\\nMissing values after cleaning:\")\n",
    "print(df.isnull().sum())\n"
   ]
  },
  {
   "cell_type": "markdown",
   "id": "4165e0ef",
   "metadata": {},
   "source": [
    "### EDA Findings:\n",
    "- Most cars are Petrol and have Manual transmission.\n",
    "- Automatic cars and newer models (higher `make_year`) tend to be more expensive.\n",
    "- Cars with more previous owners (`owner_count`) generally have lower prices.\n",
    "- Price is positively correlated with engine size and negatively with accident history.\n"
   ]
  },
  {
   "cell_type": "code",
   "execution_count": null,
   "id": "c9c20caa-e56c-467d-8b38-c73ada34defa",
   "metadata": {},
   "outputs": [],
   "source": []
  }
 ],
 "metadata": {
  "kernelspec": {
   "display_name": "Python 3 (ipykernel)",
   "language": "python",
   "name": "python3"
  },
  "language_info": {
   "codemirror_mode": {
    "name": "ipython",
    "version": 3
   },
   "file_extension": ".py",
   "mimetype": "text/x-python",
   "name": "python",
   "nbconvert_exporter": "python",
   "pygments_lexer": "ipython3",
   "version": "3.12.9"
  }
 },
 "nbformat": 4,
 "nbformat_minor": 5
}
