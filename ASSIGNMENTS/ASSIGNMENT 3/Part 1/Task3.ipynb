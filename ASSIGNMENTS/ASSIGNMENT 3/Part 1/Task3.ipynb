{
 "cells": [
  {
   "cell_type": "code",
   "execution_count": 1,
   "id": "474e8c8c-0d75-4c0a-b1ca-7653621f23af",
   "metadata": {},
   "outputs": [],
   "source": [
    "import numpy as np\n",
    "import pandas as pd\n",
    "from sklearn.datasets import fetch_california_housing\n",
    "from sklearn.model_selection import train_test_split\n",
    "from sklearn.linear_model import LinearRegression\n",
    "from sklearn.preprocessing import StandardScaler\n",
    "from sklearn.metrics import mean_squared_error, r2_score"
   ]
  },
  {
   "cell_type": "code",
   "execution_count": 2,
   "id": "06782e1f-ca44-4d82-bd81-a3f774c40cc0",
   "metadata": {},
   "outputs": [],
   "source": [
    "data = fetch_california_housing()\n",
    "X = pd.DataFrame(data.data, columns=data.feature_names)\n",
    "y = data.target"
   ]
  },
  {
   "cell_type": "code",
   "execution_count": 3,
   "id": "7c91c900-ec97-4273-8a4e-ebf36c1cd78c",
   "metadata": {},
   "outputs": [],
   "source": [
    "X_train, X_test, y_train, y_test = train_test_split(X, y, test_size=0.2, random_state=42)"
   ]
  },
  {
   "cell_type": "code",
   "execution_count": 4,
   "id": "cff61be3-a95a-4a4a-a239-9676f45a101e",
   "metadata": {},
   "outputs": [],
   "source": [
    "model1 = LinearRegression()\n",
    "model1.fit(X_train, y_train)\n",
    "y_pred1 = model1.predict(X_test)\n",
    "\n",
    "r2_1 = r2_score(y_test, y_pred1)\n",
    "mse_1 = mean_squared_error(y_test, y_pred1)\n",
    "rmse_1 = np.sqrt(mse_1)"
   ]
  },
  {
   "cell_type": "code",
   "execution_count": 5,
   "id": "6a25a21e-d1c7-48b4-b7cd-6c6797a891d3",
   "metadata": {},
   "outputs": [],
   "source": [
    "scaler = StandardScaler()\n",
    "X_train_scaled = scaler.fit_transform(X_train)\n",
    "X_test_scaled = scaler.transform(X_test)\n",
    "\n",
    "model2 = LinearRegression()\n",
    "model2.fit(X_train_scaled, y_train)\n",
    "y_pred2 = model2.predict(X_test_scaled)\n",
    "\n",
    "r2_2 = r2_score(y_test, y_pred2)\n",
    "mse_2 = mean_squared_error(y_test, y_pred2)\n",
    "rmse_2 = np.sqrt(mse_2)"
   ]
  },
  {
   "cell_type": "code",
   "execution_count": 6,
   "id": "6893e040-cd7e-4aee-ba92-195b0c20b868",
   "metadata": {},
   "outputs": [
    {
     "name": "stdout",
     "output_type": "stream",
     "text": [
      "----- Without Scaling -----\n",
      "R-squared: 0.575787706032451\n",
      "MSE: 0.5558915986952442\n",
      "RMSE: 0.7455813830127763\n",
      "\n",
      "----- With StandardScaler -----\n",
      "R-squared: 0.5757877060324508\n",
      "MSE: 0.5558915986952444\n",
      "RMSE: 0.7455813830127764\n"
     ]
    }
   ],
   "source": [
    "print(\"----- Without Scaling -----\")\n",
    "print(\"R-squared:\", r2_1)\n",
    "print(\"MSE:\", mse_1)\n",
    "print(\"RMSE:\", rmse_1)\n",
    "\n",
    "print(\"\\n----- With StandardScaler -----\")\n",
    "print(\"R-squared:\", r2_2)\n",
    "print(\"MSE:\", mse_2)\n",
    "print(\"RMSE:\", rmse_2)"
   ]
  },
  {
   "cell_type": "code",
   "execution_count": null,
   "id": "b28ac790-d60c-49c4-9a0a-28559c5447ac",
   "metadata": {},
   "outputs": [],
   "source": []
  }
 ],
 "metadata": {
  "kernelspec": {
   "display_name": "Python 3 (ipykernel)",
   "language": "python",
   "name": "python3"
  },
  "language_info": {
   "codemirror_mode": {
    "name": "ipython",
    "version": 3
   },
   "file_extension": ".py",
   "mimetype": "text/x-python",
   "name": "python",
   "nbconvert_exporter": "python",
   "pygments_lexer": "ipython3",
   "version": "3.12.9"
  }
 },
 "nbformat": 4,
 "nbformat_minor": 5
}
