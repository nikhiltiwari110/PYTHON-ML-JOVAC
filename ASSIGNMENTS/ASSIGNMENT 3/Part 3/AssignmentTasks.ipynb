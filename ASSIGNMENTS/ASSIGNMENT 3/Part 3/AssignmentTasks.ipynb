{
 "cells": [
  {
   "cell_type": "code",
   "execution_count": 2,
   "id": "d36926e7-b481-408b-b0c5-1638c446ecd8",
   "metadata": {},
   "outputs": [],
   "source": [
    "##1. What are the assumptions of linear regression?\n",
    "\n",
    "##Linear regression assumes a linear relationship between independent and dependent variables, homoscedasticity (constant variance of errors), independence of errors, and normally distributed residuals. It also assumes no multicollinearity among predictors."
   ]
  },
  {
   "cell_type": "code",
   "execution_count": null,
   "id": "84a45085-d1b8-4bfb-b38b-24290c663678",
   "metadata": {},
   "outputs": [],
   "source": [
    "#2. When should you use logistic regression instead of linear regression?\n",
    "\n",
    "#Use logistic regression when the target variable is categorical, especially binary (e.g., 0 or 1, yes or no), instead of continuous. Logistic regression models the probability of class membership."
   ]
  },
  {
   "cell_type": "code",
   "execution_count": null,
   "id": "e245e412-94a0-46bd-a6a3-d4d9e683618c",
   "metadata": {},
   "outputs": [],
   "source": [
    "#3. What is the interpretation of coefficients in logistic regression?\n",
    "\n",
    "#Each coefficient represents the change in the log-odds of the outcome for a one-unit increase in the predictor. A positive coefficient increases the odds of the positive class; a negative one decreases it."
   ]
  },
  {
   "cell_type": "code",
   "execution_count": null,
   "id": "98cc374b-2b25-4773-b194-607757d80c0c",
   "metadata": {},
   "outputs": [],
   "source": [
    "#4. What is the difference between sigmoid and softmax functions?\n",
    "\n",
    "#The sigmoid function is used in binary classification to output probabilities between 0 and 1 for a single class. The softmax function is used in multiclass classification to output a probability distribution across multiple classes."
   ]
  },
  {
   "cell_type": "code",
   "execution_count": null,
   "id": "3c91c419-ea39-491b-b38a-fa93b72e80bd",
   "metadata": {},
   "outputs": [],
   "source": [
    "#5. Why is R-squared not suitable for evaluating logistic regression models?\n",
    "\n",
    "#R-squared measures the proportion of variance explained, which applies to continuous outcomes in linear regression. Logistic regression deals with probabilities and classification, so metrics like accuracy, precision, recall, and AUC are more appropriate."
   ]
  }
 ],
 "metadata": {
  "kernelspec": {
   "display_name": "Python 3 (ipykernel)",
   "language": "python",
   "name": "python3"
  },
  "language_info": {
   "codemirror_mode": {
    "name": "ipython",
    "version": 3
   },
   "file_extension": ".py",
   "mimetype": "text/x-python",
   "name": "python",
   "nbconvert_exporter": "python",
   "pygments_lexer": "ipython3",
   "version": "3.12.9"
  }
 },
 "nbformat": 4,
 "nbformat_minor": 5
}
